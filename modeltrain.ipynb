{
 "cells": [
  {
   "cell_type": "code",
   "execution_count": 1,
   "metadata": {},
   "outputs": [
    {
     "name": "stdout",
     "output_type": "stream",
     "text": [
      "<class 'pandas.core.frame.DataFrame'>\n",
      "RangeIndex: 20022 entries, 0 to 20021\n",
      "Data columns (total 7 columns):\n",
      "session_id        20022 non-null object\n",
      "unix_timestamp    20022 non-null datetime64[ns]\n",
      "cities            20022 non-null object\n",
      "country           20022 non-null category\n",
      "joining_date      20022 non-null datetime64[ns]\n",
      "user_id           20022 non-null int64\n",
      "access_date       20022 non-null object\n",
      "dtypes: category(1), datetime64[ns](2), int64(1), object(3)\n",
      "memory usage: 958.5+ KB\n"
     ]
    }
   ],
   "source": [
    "# import libraries\n",
    "import json\n",
    "import numpy as np\n",
    "import pandas as pd\n",
    "import pickle\n",
    "import operator\n",
    "import collections\n",
    "from dataparser import parse_json_file\n",
    "from sklearn.metrics.pairwise import cosine_similarity\n",
    "from scipy import sparse"
   ]
  },
  {
   "cell_type": "code",
   "execution_count": 3,
   "metadata": {},
   "outputs": [
    {
     "data": {
      "text/html": [
       "<div>\n",
       "<style scoped>\n",
       "    .dataframe tbody tr th:only-of-type {\n",
       "        vertical-align: middle;\n",
       "    }\n",
       "\n",
       "    .dataframe tbody tr th {\n",
       "        vertical-align: top;\n",
       "    }\n",
       "\n",
       "    .dataframe thead th {\n",
       "        text-align: right;\n",
       "    }\n",
       "</style>\n",
       "<table border=\"1\" class=\"dataframe\">\n",
       "  <thead>\n",
       "    <tr style=\"text-align: right;\">\n",
       "      <th></th>\n",
       "      <th>session_id</th>\n",
       "      <th>unix_timestamp</th>\n",
       "      <th>cities</th>\n",
       "      <th>country</th>\n",
       "      <th>joining_date</th>\n",
       "      <th>user_id</th>\n",
       "      <th>access_date</th>\n",
       "    </tr>\n",
       "  </thead>\n",
       "  <tbody>\n",
       "    <tr>\n",
       "      <th>0</th>\n",
       "      <td>X061RFWB06K9V</td>\n",
       "      <td>2015-09-17 15:28:28</td>\n",
       "      <td>New York NY, Newark NJ</td>\n",
       "      <td>UK</td>\n",
       "      <td>2015-03-22</td>\n",
       "      <td>2024</td>\n",
       "      <td>2015-09-17</td>\n",
       "    </tr>\n",
       "    <tr>\n",
       "      <th>1</th>\n",
       "      <td>5AZ2X2A9BHH5U</td>\n",
       "      <td>2015-09-04 08:06:31</td>\n",
       "      <td>New York NY, Jersey City NJ, Philadelphia PA</td>\n",
       "      <td>DE</td>\n",
       "      <td>2015-03-28</td>\n",
       "      <td>2853</td>\n",
       "      <td>2015-09-04</td>\n",
       "    </tr>\n",
       "    <tr>\n",
       "      <th>2</th>\n",
       "      <td>SHTB4IYAX4PX6</td>\n",
       "      <td>2015-08-29 10:18:10</td>\n",
       "      <td>San Antonio TX</td>\n",
       "      <td>UK</td>\n",
       "      <td>2015-03-06</td>\n",
       "      <td>10958</td>\n",
       "      <td>2015-08-29</td>\n",
       "    </tr>\n",
       "  </tbody>\n",
       "</table>\n",
       "</div>"
      ],
      "text/plain": [
       "      session_id      unix_timestamp  \\\n",
       "0  X061RFWB06K9V 2015-09-17 15:28:28   \n",
       "1  5AZ2X2A9BHH5U 2015-09-04 08:06:31   \n",
       "2  SHTB4IYAX4PX6 2015-08-29 10:18:10   \n",
       "\n",
       "                                         cities country joining_date  user_id  \\\n",
       "0                        New York NY, Newark NJ      UK   2015-03-22     2024   \n",
       "1  New York NY, Jersey City NJ, Philadelphia PA      DE   2015-03-28     2853   \n",
       "2                                San Antonio TX      UK   2015-03-06    10958   \n",
       "\n",
       "  access_date  \n",
       "0  2015-09-17  \n",
       "1  2015-09-04  \n",
       "2  2015-08-29  "
      ]
     },
     "execution_count": 3,
     "metadata": {},
     "output_type": "execute_result"
    }
   ],
   "source": [
    "# Load dataset\n",
    "file_path = 'city_search.json'\n",
    "df = parse_json_file(file_path)\n",
    "#df.columns\n",
    "#df.info()\n",
    "df.head(3)"
   ]
  },
  {
   "cell_type": "code",
   "execution_count": 4,
   "metadata": {
    "scrolled": true
   },
   "outputs": [],
   "source": [
    "def create_user_by_city_matrix(df):\n",
    "    # Get all user_id and city set\n",
    "    user_array = df['user_id'].unique()\n",
    "    user_count = df['user_id'].nunique()\n",
    "    cities_str = ','.join(df['cities'].values)\n",
    "    cities_set = set(city.strip() for city in cities_str.split(','))\n",
    "\n",
    "    # Generate user by cities matrix with all value as 0\n",
    "    data = np.zeros((user_count,89))\n",
    "    df_user_by_city = pd.DataFrame(data, index = list(user_array), columns = list(cities_set))\n",
    "    df_user_by_city.index.rename('user_id', inplace=True) \n",
    "    df_user_by_city.head(3)\n",
    "\n",
    "    # Populate the matrix with 1 if user_id searched the city\n",
    "    for user_id,group in df.groupby('user_id'):\n",
    "        for item in group['cities'].iteritems(): \n",
    "          for c in item[1].split(','):\n",
    "            df_user_by_city.loc[user_id, c.strip()] = 1\n",
    "    return df_user_by_city\n",
    "\n",
    "df_city_item = create_user_by_city_matrix(df)\n",
    "#df_city_item.head(3)"
   ]
  },
  {
   "cell_type": "code",
   "execution_count": 5,
   "metadata": {},
   "outputs": [],
   "source": [
    "# Normalized user by city matrix\n",
    "def normalize_user_user_matrx(df_city_item):\n",
    "    magnitude = np.sqrt(np.square(df_city_item).sum(axis=1))\n",
    "    df_city_item = df_city_item.divide(magnitude, axis='index')\n",
    "    return df_city_item\n",
    "\n",
    "'''\n",
    "Calculate the column-wise cosine similarity between cities.\n",
    "Retrun a similary matrix(dataframe)\n",
    "'''\n",
    "def cal_similarity_cosine(df_city_item):\n",
    "    sparse_data = sparse.csr_matrix(df_city_item)\n",
    "    similaries = cosine_similarity(sparse_data.transpose())\n",
    "    similarity_matrix = pd.DataFrame(data=similaries, index = df_city_item.columns, columns = df_city_item.columns)\n",
    "    return similarity_matrix\n",
    "\n",
    "def city_similarity_matrix(df):\n",
    "    #df = parse_json_file(file_path)\n",
    "    df_city_item = create_user_by_city_matrix(df)\n",
    "    df_city_item = normalize_user_user_matrx(df_city_item)\n",
    "    #build the similarity matrix\n",
    "    similarity_matrix = cal_similarity_cosine(df_city_item)\n",
    "    #similarity_matrix.to_pickle('similaritymatrix.pkl')    \n",
    "    return similarity_matrix\n",
    "\n",
    "\n",
    "\n",
    "#similarity_matrix = city_similarity_matrix(file_path)\n",
    "#similarity_matrix.head(3)"
   ]
  },
  {
   "cell_type": "code",
   "execution_count": null,
   "metadata": {},
   "outputs": [],
   "source": []
  },
  {
   "cell_type": "code",
   "execution_count": null,
   "metadata": {},
   "outputs": [],
   "source": [
    "\n",
    "\n"
   ]
  },
  {
   "cell_type": "code",
   "execution_count": null,
   "metadata": {},
   "outputs": [],
   "source": []
  },
  {
   "cell_type": "code",
   "execution_count": null,
   "metadata": {},
   "outputs": [],
   "source": []
  },
  {
   "cell_type": "code",
   "execution_count": null,
   "metadata": {},
   "outputs": [],
   "source": []
  }
 ],
 "metadata": {
  "kernelspec": {
   "display_name": "Python 3",
   "language": "python",
   "name": "python3"
  },
  "language_info": {
   "codemirror_mode": {
    "name": "ipython",
    "version": 3
   },
   "file_extension": ".py",
   "mimetype": "text/x-python",
   "name": "python",
   "nbconvert_exporter": "python",
   "pygments_lexer": "ipython3",
   "version": "3.7.3"
  }
 },
 "nbformat": 4,
 "nbformat_minor": 2
}
